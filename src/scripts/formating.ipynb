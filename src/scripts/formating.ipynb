{
 "cells": [
  {
   "cell_type": "code",
   "execution_count": 5,
   "metadata": {},
   "outputs": [],
   "source": [
    "import matplotlib.pyplot as plt\n",
    "from pathlib import Path\n",
    "import pandas as pd\n",
    "import numpy as np\n",
    "import os"
   ]
  },
  {
   "cell_type": "code",
   "execution_count": 26,
   "metadata": {},
   "outputs": [],
   "source": [
    "character_metadata = pd.read_csv(\"../data/character.metadata.tsv\", sep='\\t', header=None)\n",
    "movie_metadata = pd.read_csv(\"../data/movie.metadata.tsv\", sep = \"\\t\", header= None)\n",
    "name_clusters = pd.read_csv(\"../data/name.clusters.txt\", sep = \"\\t\", header=None)\n",
    "plot_summaries = pd.read_csv(\"../data/plot_summaries.txt\", sep =\"\\t\", header=None)\n",
    "tvtropes_clusters = pd.read_csv(\"../data/tvtropes.clusters.txt\", sep = \"\\t\", header=None)"
   ]
  },
  {
   "cell_type": "code",
   "execution_count": null,
   "metadata": {},
   "outputs": [],
   "source": [
    "# Character Metadata\n",
    "character_metadata.columns = [\"Wikipedia Movie ID\", \"Freebase Movie ID\", \"Movie Release Date\", \"Character Name\", \"Actor date of birth\", \"Actor Gender\", \"Actor Height\", \"Actor Ethnicity\", \"Actor Name\", \"Actor age at movie realise\", \"Freebase Character Map ID\", \"Freebase character ID\", \"Freebase actor ID\"]\n",
    "character_metadata.to_csv('../data/character_metadata.csv', index=False)\n",
    "\n",
    "# Movie Metadata\n",
    "movie_metadata.columns = [\"Wikipedia Movie ID\", \"Freebase Movie ID\", \"Movie Name\", \"Movie Release Date\", \"Movie Box Office Revenue\", \"Movie Runtime\", \"Movie Language\", \"Movie Country\", \"Movie Genre\"]\n",
    "movie_metadata.to_csv('../data/movie_metadata.csv', index=False)\n",
    "\n",
    "# Name Clusters\n",
    "name_clusters.columns = [\"Character Name\",\"Freebase Character Map ID\"]\n",
    "name_clusters.to_csv('../data/name_clusters.csv', index=False)\n",
    "\n",
    "# Plot Summaries\n",
    "plot_summaries.columns = [\"Wikipedia Movie ID\",\"Summary\"]\n",
    "plot_summaries.to_csv('../data/plot_summaries.csv', index=False)\n",
    "\n",
    "# TV tropes\n",
    "\n",
    "\n",
    "\n"
   ]
  }
 ],
 "metadata": {
  "kernelspec": {
   "display_name": "base",
   "language": "python",
   "name": "python3"
  },
  "language_info": {
   "codemirror_mode": {
    "name": "ipython",
    "version": 3
   },
   "file_extension": ".py",
   "mimetype": "text/x-python",
   "name": "python",
   "nbconvert_exporter": "python",
   "pygments_lexer": "ipython3",
   "version": "3.12.4"
  }
 },
 "nbformat": 4,
 "nbformat_minor": 2
}
