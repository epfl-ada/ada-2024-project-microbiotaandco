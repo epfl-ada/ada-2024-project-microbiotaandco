{
 "cells": [
  {
   "cell_type": "markdown",
   "metadata": {},
   "source": [
    "**0. Introduction**\\\n",
    "We aim to answer two main questions:\n",
    "\\\n",
    "    - How has actor diversity evolved over time based on attributes such as gender, ethnicity, height, and age at the time of a movie’s release, and what trends in diversity can be observed across different countries?\n",
    "\\\n",
    "    - How have stereotypical roles or archetypes in films changed over time, and how are specific attributes (e.g., gender, ethnicity) linked to character roles? Furthermore, have these patterns shifted over time and across different cultures?\\\n",
    "    \\\n"
   ]
  },
  {
   "cell_type": "markdown",
   "metadata": {},
   "source": [
    "**1. Preprocessing**"
   ]
  },
  {
   "cell_type": "code",
   "execution_count": 1,
   "metadata": {},
   "outputs": [
    {
     "name": "stdout",
     "output_type": "stream",
     "text": [
      "\n",
      "/Users/lou/Documents/GitHub/ada-2024-project-microbiotaandco\n",
      "The character metadata is formated.\n",
      "The movie metadata is formated.\n",
      "The name cluster is formated.\n",
      "The plot summaries is metadata is formated.\n",
      "The TV tropes clusters is formated.\n"
     ]
    }
   ],
   "source": [
    "# Formating the orignal datatset\n",
    "from src.scripts.formating import formating_datasets\n",
    "import pandas as pd\n",
    "\n",
    "# Running the formating of the original dataset\n",
    "formating_datasets()"
   ]
  },
  {
   "cell_type": "code",
   "execution_count": null,
   "metadata": {},
   "outputs": [],
   "source": [
    "# Prepocessing\n",
    "from src.scripts.preprocessing import preprocessing_datasets"
   ]
  },
  {
   "cell_type": "markdown",
   "metadata": {},
   "source": [
    "Preprocessing de Lou, Yoyo et Antea"
   ]
  },
  {
   "cell_type": "markdown",
   "metadata": {},
   "source": [
    "For the second question, the main issue was that the dataset tvtropes_clusters.csv contained only 502 lines, which was too small to be used effectively for analyzing roles or archetypes. As a result, we needed to obtain new data that would include such roles or archetypes.\n",
    "\n",
    "To achieve this, we used the SPARQL endpoint API of Wikidata. By using Python code, we were able to send a SPARQL query that contained a Freebase ID for each character. This allowed us to obtain detailed information related to each character, including their associated occupations.\n",
    "\n",
    "We collected the new data and stored it in a dataset called extract_data.csv, which included a new column named \"Occupation Labels\". This column contained a list of occupations related to each character. For example, Batman had multiple occupations, such as businessman, superhero, and more.\n",
    "\n",
    "Finally, this new dataset was cleaned and processed using similar methods as for the first question. The data was normalized, duplicates were removed, and missing values were handled, resulting in a more complete and structured dataset for further analysis."
   ]
  },
  {
   "cell_type": "markdown",
   "metadata": {},
   "source": [
    "**2. Exploratory Data Analysis**"
   ]
  },
  {
   "cell_type": "markdown",
   "metadata": {},
   "source": [
    "Lou,Antea,Yoyo"
   ]
  },
  {
   "cell_type": "markdown",
   "metadata": {},
   "source": [
    "Maurice"
   ]
  },
  {
   "cell_type": "markdown",
   "metadata": {},
   "source": [
    "Matej"
   ]
  },
  {
   "cell_type": "markdown",
   "metadata": {},
   "source": [
    "### 3. Diversity Score"
   ]
  },
  {
   "cell_type": "code",
   "execution_count": 2,
   "metadata": {},
   "outputs": [
    {
     "ename": "ModuleNotFoundError",
     "evalue": "No module named 'diversity_score_functions'",
     "output_type": "error",
     "traceback": [
      "\u001b[0;31m---------------------------------------------------------------------------\u001b[0m",
      "\u001b[0;31mModuleNotFoundError\u001b[0m                       Traceback (most recent call last)",
      "Cell \u001b[0;32mIn[2], line 1\u001b[0m\n\u001b[0;32m----> 1\u001b[0m \u001b[38;5;28;01mimport\u001b[39;00m \u001b[38;5;21;01mdiversity_score_functions\u001b[39;00m\n",
      "\u001b[0;31mModuleNotFoundError\u001b[0m: No module named 'diversity_score_functions'"
     ]
    }
   ],
   "source": [
    "import diversity_score_functions"
   ]
  },
  {
   "cell_type": "markdown",
   "metadata": {},
   "source": [
    "#### 3.1 creating the diversity dataset\n",
    "In this section we calculate the diversity scores for each movie, we do this by grouping by movie, and applying formulas (simpson diversity index for age/height/age, one minus absolute difference in proportion in gender, porportions of foreign actor)"
   ]
  },
  {
   "cell_type": "code",
   "execution_count": null,
   "metadata": {},
   "outputs": [],
   "source": [
    "df_result_gender = df_metadata_OI.groupby('Freebase Movie ID').apply(calculate_gender_diversity).reset_index()\n",
    "df_result_gender.columns = ['Freebase Movie ID', 'gender_score']\n",
    "df_result_gender.head(10)"
   ]
  },
  {
   "cell_type": "code",
   "execution_count": null,
   "metadata": {},
   "outputs": [],
   "source": [
    "df_result_foreigners = calculate_foreign_actor_proportion(df_metadata_OI)\n",
    "df_result_foreigners.head(10)\n"
   ]
  },
  {
   "cell_type": "code",
   "execution_count": null,
   "metadata": {},
   "outputs": [],
   "source": [
    "df_result_age = df_metadata_OI.groupby('Freebase Movie ID').apply(calculate_age_diversity).reset_index()\n",
    "df_result_age.columns = ['Freebase Movie ID', 'age_score']"
   ]
  },
  {
   "cell_type": "code",
   "execution_count": null,
   "metadata": {},
   "outputs": [],
   "source": [
    "df_result_height = df_metadata_OI.groupby('Freebase Movie ID').apply(calculate_height_diversity).reset_index()\n",
    "df_result_height.columns = ['Freebase Movie ID', 'height_score']\n"
   ]
  },
  {
   "cell_type": "code",
   "execution_count": null,
   "metadata": {},
   "outputs": [],
   "source": [
    "df_result_ethnicity = df_metadata_OI.groupby('Freebase Movie ID').apply(calculate_ethnicity_diversity).reset_index()\n",
    "df_result_ethnicity.columns = ['Freebase Movie ID', 'ethnicity_score']"
   ]
  },
  {
   "cell_type": "markdown",
   "metadata": {},
   "source": [
    "In this section, we create a new data set where each movie posseses a score. Additionally we add for each movie the overall diversity score which is just the mean of the previous scores combined."
   ]
  },
  {
   "cell_type": "code",
   "execution_count": null,
   "metadata": {},
   "outputs": [],
   "source": [
    "df_merged = df_result_age \\\n",
    "    .merge(df_result_height, on='Freebase Movie ID') \\\n",
    "    .merge(df_result_ethnicity, on='Freebase Movie ID') \\\n",
    "    .merge(df_result_gender, on='Freebase Movie ID')\\\n",
    "    .merge(df_result_foreigners, on='Freebase Movie ID')\n",
    "\n",
    "df_merged['diversity_score'] = df_merged[['age_score', 'height_score', 'ethnicity_score', 'gender_score','Foreign Actor Proportion']].mean(axis=1)\n",
    "df_merged.head(10)"
   ]
  },
  {
   "cell_type": "code",
   "execution_count": null,
   "metadata": {},
   "outputs": [],
   "source": [
    "Diversity_movie_metadata=df_merged.merge(\n",
    "    df_merged_unique[['Freebase Movie ID', 'Movie Release Date', 'Movie Box Office Revenue', 'Movie Language', 'Movie Country']],\n",
    "    on='Freebase Movie ID',\n",
    "    how='inner') \n",
    "Diversity_movie_metadata.sample(10)"
   ]
  },
  {
   "cell_type": "markdown",
   "metadata": {},
   "source": [
    "#### 3.2 preliminary analysis of the dataset\n",
    "In this section, we decided to plot the evolution of the various diversity scores over time and over the different countries"
   ]
  },
  {
   "cell_type": "code",
   "execution_count": null,
   "metadata": {},
   "outputs": [],
   "source": [
    "import plot_diversity_country_time"
   ]
  }
 ],
 "metadata": {
  "kernelspec": {
   "display_name": "base",
   "language": "python",
   "name": "python3"
  },
  "language_info": {
   "codemirror_mode": {
    "name": "ipython",
    "version": 3
   },
   "file_extension": ".py",
   "mimetype": "text/x-python",
   "name": "python",
   "nbconvert_exporter": "python",
   "pygments_lexer": "ipython3",
   "version": "3.12.4"
  }
 },
 "nbformat": 4,
 "nbformat_minor": 4
}
